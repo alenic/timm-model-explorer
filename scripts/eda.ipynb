{
 "cells": [
  {
   "cell_type": "code",
   "execution_count": 1,
   "id": "47b04942",
   "metadata": {},
   "outputs": [
    {
     "data": {
      "text/html": [
       "<div>\n",
       "<style scoped>\n",
       "    .dataframe tbody tr th:only-of-type {\n",
       "        vertical-align: middle;\n",
       "    }\n",
       "\n",
       "    .dataframe tbody tr th {\n",
       "        vertical-align: top;\n",
       "    }\n",
       "\n",
       "    .dataframe thead th {\n",
       "        text-align: right;\n",
       "    }\n",
       "</style>\n",
       "<table border=\"1\" class=\"dataframe\">\n",
       "  <thead>\n",
       "    <tr style=\"text-align: right;\">\n",
       "      <th></th>\n",
       "      <th>model</th>\n",
       "      <th>top1</th>\n",
       "      <th>top1_err</th>\n",
       "      <th>top5</th>\n",
       "      <th>top5_err</th>\n",
       "      <th>param_count</th>\n",
       "      <th>img_size</th>\n",
       "      <th>crop_pct</th>\n",
       "      <th>interpolation</th>\n",
       "    </tr>\n",
       "  </thead>\n",
       "  <tbody>\n",
       "    <tr>\n",
       "      <th>0</th>\n",
       "      <td>eva_giant_patch14_560.m30m_ft_in22k_in1k</td>\n",
       "      <td>89.796</td>\n",
       "      <td>10.204</td>\n",
       "      <td>98.992</td>\n",
       "      <td>1.008</td>\n",
       "      <td>1014.45</td>\n",
       "      <td>560</td>\n",
       "      <td>1.000</td>\n",
       "      <td>bicubic</td>\n",
       "    </tr>\n",
       "    <tr>\n",
       "      <th>1</th>\n",
       "      <td>eva_giant_patch14_336.m30m_ft_in22k_in1k</td>\n",
       "      <td>89.568</td>\n",
       "      <td>10.432</td>\n",
       "      <td>98.952</td>\n",
       "      <td>1.048</td>\n",
       "      <td>1013.01</td>\n",
       "      <td>336</td>\n",
       "      <td>1.000</td>\n",
       "      <td>bicubic</td>\n",
       "    </tr>\n",
       "    <tr>\n",
       "      <th>2</th>\n",
       "      <td>eva_giant_patch14_336.clip_ft_in1k</td>\n",
       "      <td>89.476</td>\n",
       "      <td>10.524</td>\n",
       "      <td>98.824</td>\n",
       "      <td>1.176</td>\n",
       "      <td>1013.01</td>\n",
       "      <td>336</td>\n",
       "      <td>1.000</td>\n",
       "      <td>bicubic</td>\n",
       "    </tr>\n",
       "    <tr>\n",
       "      <th>3</th>\n",
       "      <td>eva_large_patch14_336.in22k_ft_in22k_in1k</td>\n",
       "      <td>89.204</td>\n",
       "      <td>10.796</td>\n",
       "      <td>98.850</td>\n",
       "      <td>1.150</td>\n",
       "      <td>304.53</td>\n",
       "      <td>336</td>\n",
       "      <td>1.000</td>\n",
       "      <td>bicubic</td>\n",
       "    </tr>\n",
       "    <tr>\n",
       "      <th>4</th>\n",
       "      <td>eva_giant_patch14_224.clip_ft_in1k</td>\n",
       "      <td>89.100</td>\n",
       "      <td>10.900</td>\n",
       "      <td>98.716</td>\n",
       "      <td>1.284</td>\n",
       "      <td>1012.56</td>\n",
       "      <td>224</td>\n",
       "      <td>1.000</td>\n",
       "      <td>bicubic</td>\n",
       "    </tr>\n",
       "    <tr>\n",
       "      <th>...</th>\n",
       "      <td>...</td>\n",
       "      <td>...</td>\n",
       "      <td>...</td>\n",
       "      <td>...</td>\n",
       "      <td>...</td>\n",
       "      <td>...</td>\n",
       "      <td>...</td>\n",
       "      <td>...</td>\n",
       "      <td>...</td>\n",
       "    </tr>\n",
       "    <tr>\n",
       "      <th>785</th>\n",
       "      <td>dla46_c</td>\n",
       "      <td>64.866</td>\n",
       "      <td>35.134</td>\n",
       "      <td>86.292</td>\n",
       "      <td>13.708</td>\n",
       "      <td>1.30</td>\n",
       "      <td>224</td>\n",
       "      <td>0.875</td>\n",
       "      <td>bilinear</td>\n",
       "    </tr>\n",
       "    <tr>\n",
       "      <th>786</th>\n",
       "      <td>lcnet_050.ra2_in1k</td>\n",
       "      <td>63.100</td>\n",
       "      <td>36.900</td>\n",
       "      <td>84.380</td>\n",
       "      <td>15.620</td>\n",
       "      <td>1.88</td>\n",
       "      <td>224</td>\n",
       "      <td>0.875</td>\n",
       "      <td>bicubic</td>\n",
       "    </tr>\n",
       "    <tr>\n",
       "      <th>787</th>\n",
       "      <td>tf_mobilenetv3_small_minimal_100.in1k</td>\n",
       "      <td>62.906</td>\n",
       "      <td>37.094</td>\n",
       "      <td>84.230</td>\n",
       "      <td>15.770</td>\n",
       "      <td>2.04</td>\n",
       "      <td>224</td>\n",
       "      <td>0.875</td>\n",
       "      <td>bilinear</td>\n",
       "    </tr>\n",
       "    <tr>\n",
       "      <th>788</th>\n",
       "      <td>tinynet_e.in1k</td>\n",
       "      <td>59.856</td>\n",
       "      <td>40.144</td>\n",
       "      <td>81.762</td>\n",
       "      <td>18.238</td>\n",
       "      <td>2.04</td>\n",
       "      <td>106</td>\n",
       "      <td>0.875</td>\n",
       "      <td>bicubic</td>\n",
       "    </tr>\n",
       "    <tr>\n",
       "      <th>789</th>\n",
       "      <td>mobilenetv3_small_050.lamb_in1k</td>\n",
       "      <td>57.890</td>\n",
       "      <td>42.110</td>\n",
       "      <td>80.194</td>\n",
       "      <td>19.806</td>\n",
       "      <td>1.59</td>\n",
       "      <td>224</td>\n",
       "      <td>0.875</td>\n",
       "      <td>bicubic</td>\n",
       "    </tr>\n",
       "  </tbody>\n",
       "</table>\n",
       "<p>790 rows × 9 columns</p>\n",
       "</div>"
      ],
      "text/plain": [
       "                                         model    top1  top1_err    top5  \\\n",
       "0     eva_giant_patch14_560.m30m_ft_in22k_in1k  89.796    10.204  98.992   \n",
       "1     eva_giant_patch14_336.m30m_ft_in22k_in1k  89.568    10.432  98.952   \n",
       "2           eva_giant_patch14_336.clip_ft_in1k  89.476    10.524  98.824   \n",
       "3    eva_large_patch14_336.in22k_ft_in22k_in1k  89.204    10.796  98.850   \n",
       "4           eva_giant_patch14_224.clip_ft_in1k  89.100    10.900  98.716   \n",
       "..                                         ...     ...       ...     ...   \n",
       "785                                    dla46_c  64.866    35.134  86.292   \n",
       "786                         lcnet_050.ra2_in1k  63.100    36.900  84.380   \n",
       "787      tf_mobilenetv3_small_minimal_100.in1k  62.906    37.094  84.230   \n",
       "788                             tinynet_e.in1k  59.856    40.144  81.762   \n",
       "789            mobilenetv3_small_050.lamb_in1k  57.890    42.110  80.194   \n",
       "\n",
       "     top5_err  param_count  img_size  crop_pct interpolation  \n",
       "0       1.008      1014.45       560     1.000       bicubic  \n",
       "1       1.048      1013.01       336     1.000       bicubic  \n",
       "2       1.176      1013.01       336     1.000       bicubic  \n",
       "3       1.150       304.53       336     1.000       bicubic  \n",
       "4       1.284      1012.56       224     1.000       bicubic  \n",
       "..        ...          ...       ...       ...           ...  \n",
       "785    13.708         1.30       224     0.875      bilinear  \n",
       "786    15.620         1.88       224     0.875       bicubic  \n",
       "787    15.770         2.04       224     0.875      bilinear  \n",
       "788    18.238         2.04       106     0.875       bicubic  \n",
       "789    19.806         1.59       224     0.875       bicubic  \n",
       "\n",
       "[790 rows x 9 columns]"
      ]
     },
     "execution_count": 1,
     "metadata": {},
     "output_type": "execute_result"
    }
   ],
   "source": [
    "import pandas as pd\n",
    "import matplotlib.pyplot as plt\n",
    "import plotly.express as px\n",
    "\n",
    "df = pd.read_csv(\"../data/results-imagenet.csv\")\n",
    "\n",
    "df[\"param_count\"] = df[\"param_count\"].str.replace(\",\",\"\").astype(float)\n",
    "df"
   ]
  },
  {
   "cell_type": "code",
   "execution_count": 2,
   "id": "1b414285",
   "metadata": {},
   "outputs": [
    {
     "name": "stdout",
     "output_type": "stream",
     "text": [
      "<class 'pandas.core.frame.DataFrame'>\n",
      "RangeIndex: 790 entries, 0 to 789\n",
      "Data columns (total 9 columns):\n",
      " #   Column         Non-Null Count  Dtype  \n",
      "---  ------         --------------  -----  \n",
      " 0   model          790 non-null    object \n",
      " 1   top1           790 non-null    float64\n",
      " 2   top1_err       790 non-null    float64\n",
      " 3   top5           790 non-null    float64\n",
      " 4   top5_err       790 non-null    float64\n",
      " 5   param_count    790 non-null    float64\n",
      " 6   img_size       790 non-null    int64  \n",
      " 7   crop_pct       790 non-null    float64\n",
      " 8   interpolation  790 non-null    object \n",
      "dtypes: float64(6), int64(1), object(2)\n",
      "memory usage: 55.7+ KB\n"
     ]
    }
   ],
   "source": [
    "df.info()"
   ]
  },
  {
   "cell_type": "code",
   "execution_count": 3,
   "id": "dc233ddb",
   "metadata": {},
   "outputs": [
    {
     "data": {
      "application/vnd.plotly.v1+json": {
       "config": {
        "plotlyServerURL": "https://plot.ly"
       },
       "data": [
        {
         "hovertemplate": "<b>%{hovertext}</b><br><br>img_size=%{x}<br>top1=%{y}<br>param_count=%{marker.size}<br>model=%{text}<extra></extra>",
         "hovertext": [
          "eva_giant_patch14_560.m30m_ft_in22k_in1k",
          "eva_giant_patch14_336.m30m_ft_in22k_in1k",
          "eva_giant_patch14_336.clip_ft_in1k",
          "eva_large_patch14_336.in22k_ft_in22k_in1k",
          "eva_giant_patch14_224.clip_ft_in1k",
          "eva_large_patch14_336.in22k_ft_in1k",
          "beit_large_patch16_512.in22k_ft_in22k_in1k",
          "eva_large_patch14_196.in22k_ft_in22k_in1k",
          "vit_huge_patch14_clip_336.laion2b_ft_in12k_in1k",
          "maxvit_xlarge_tf_512.in21k_ft_in1k",
          "beit_large_patch16_384.in22k_ft_in22k_in1k",
          "beitv2_large_patch16_224.in1k_ft_in22k_in1k",
          "tf_efficientnet_l2.ns_jft_in1k",
          "maxvit_xlarge_tf_384.in21k_ft_in1k",
          "vit_large_patch14_clip_336.openai_ft_in12k_in1k",
          "vit_huge_patch14_clip_224.laion2b_ft_in12k_in1k",
          "tf_efficientnet_l2.ns_jft_in1k_475",
          "maxvit_large_tf_512.in21k_ft_in1k",
          "maxvit_base_tf_512.in21k_ft_in1k",
          "vit_large_patch14_clip_336.laion2b_ft_in12k_in1k",
          "vit_large_patch14_clip_224.openai_ft_in12k_in1k",
          "maxvit_large_tf_384.in21k_ft_in1k",
          "eva_large_patch14_196.in22k_ft_in1k",
          "maxvit_base_tf_384.in21k_ft_in1k",
          "vit_large_patch14_clip_224.laion2b_ft_in12k_in1k",
          "vit_large_patch14_clip_224.openai_ft_in1k",
          "vit_large_patch14_clip_336.laion2b_ft_in1k",
          "convnext_xlarge.fb_in22k_ft_in1k_384",
          "deit3_large_patch16_384_in21ft1k",
          "vit_huge_patch14_clip_224.laion2b_ft_in1k",
          "beit_large_patch16_224.in22k_ft_in22k_in1k",
          "convnext_large.fb_in22k_ft_in1k_384",
          "swinv2_large_window12to24_192to384_22kft1k",
          "convnext_xlarge.fb_in22k_ft_in1k",
          "vit_large_patch14_clip_224.laion2b_ft_in1k",
          "vit_base_patch16_clip_384.laion2b_ft_in12k_in1k",
          "deit3_huge_patch14_224_in21ft1k",
          "swin_large_patch4_window12_384",
          "swinv2_base_window12to24_192to384_22kft1k",
          "vit_large_patch16_384.augreg_in21k_ft_in1k",
          "volo_d5_512",
          "vit_base_patch16_clip_384.openai_ft_in12k_in1k",
          "convnext_large.fb_in22k_ft_in1k",
          "deit3_large_patch16_224_in21ft1k",
          "volo_d5_448",
          "swinv2_large_window12to16_192to256_22kft1k",
          "tf_efficientnet_b7.ns_jft_in1k",
          "tf_efficientnetv2_l.in21k_ft_in1k",
          "beit_base_patch16_384.in22k_ft_in22k_in1k",
          "convnext_base.fb_in22k_ft_in1k_384",
          "volo_d4_448",
          "tf_efficientnetv2_xl.in21k_ft_in1k",
          "deit3_base_patch16_384_in21ft1k",
          "vit_base_patch16_clip_384.laion2b_ft_in1k",
          "maxvit_base_tf_512.in1k",
          "maxvit_large_tf_512.in1k",
          "volo_d3_448",
          "cait_m48_448",
          "beitv2_base_patch16_224.in1k_ft_in22k_in1k",
          "tf_efficientnet_b6.ns_jft_in1k",
          "swin_base_patch4_window12_384",
          "swin_large_patch4_window7_224",
          "maxvit_base_tf_384.in1k",
          "convnext_base.fb_in22k_ft_in1k",
          "swinv2_base_window12to16_192to256_22kft1k",
          "maxvit_large_tf_384.in1k",
          "vit_base_patch8_224.augreg2_in21k_ft_in1k",
          "vit_base_patch16_clip_384.openai_ft_in1k",
          "vit_large_r50_s32_384.augreg_in21k_ft_in1k",
          "vit_base_patch16_clip_224.laion2b_ft_in12k_in1k",
          "dm_nfnet_f6",
          "maxvit_small_tf_512.in1k",
          "tf_efficientnet_b5.ns_jft_in1k",
          "volo_d5_224",
          "cait_m36_384",
          "volo_d2_384",
          "vit_base_patch16_384.augreg_in21k_ft_in1k",
          "tf_efficientnetv2_m.in21k_ft_in1k",
          "xcit_large_24_p8_384_dist"
         ],
         "legendgroup": "",
         "marker": {
          "color": "#636efa",
          "size": [
           1014.45,
           1013.01,
           1013.01,
           304.53,
           1012.56,
           304.53,
           305.67,
           304.14,
           632.46,
           475.77,
           305,
           304.43,
           480.31,
           475.32,
           304.53,
           632.05,
           480.31,
           212.33,
           119.88,
           304.53,
           304.2,
           212.03,
           304.14,
           119.65,
           304.2,
           304.2,
           304.53,
           350.2,
           304.76,
           632.05,
           304.43,
           197.77,
           196.74,
           350.2,
           304.2,
           86.86,
           632.13,
           196.74,
           87.92,
           304.72,
           296.09,
           86.86,
           197.77,
           304.37,
           295.91,
           196.74,
           66.35,
           118.52,
           86.74,
           88.59,
           193.41,
           208.12,
           86.88,
           86.86,
           119.88,
           212.33,
           86.63,
           356.46,
           86.53,
           43.04,
           87.9,
           196.53,
           119.65,
           88.59,
           87.92,
           212.03,
           86.58,
           86.86,
           329.09,
           86.57,
           438.36,
           69.13,
           30.39,
           295.46,
           271.22,
           58.87,
           86.86,
           54.14,
           188.93
          ],
          "sizemode": "area",
          "sizeref": 0.28179166666666666,
          "symbol": "circle"
         },
         "mode": "markers+text",
         "name": "",
         "orientation": "v",
         "showlegend": false,
         "text": [
          "eva_giant_patch14_560.m30m_ft_in22k_in1k",
          "eva_giant_patch14_336.m30m_ft_in22k_in1k",
          "eva_giant_patch14_336.clip_ft_in1k",
          "eva_large_patch14_336.in22k_ft_in22k_in1k",
          "eva_giant_patch14_224.clip_ft_in1k",
          "eva_large_patch14_336.in22k_ft_in1k",
          "beit_large_patch16_512.in22k_ft_in22k_in1k",
          "eva_large_patch14_196.in22k_ft_in22k_in1k",
          "vit_huge_patch14_clip_336.laion2b_ft_in12k_in1k",
          "maxvit_xlarge_tf_512.in21k_ft_in1k",
          "beit_large_patch16_384.in22k_ft_in22k_in1k",
          "beitv2_large_patch16_224.in1k_ft_in22k_in1k",
          "tf_efficientnet_l2.ns_jft_in1k",
          "maxvit_xlarge_tf_384.in21k_ft_in1k",
          "vit_large_patch14_clip_336.openai_ft_in12k_in1k",
          "vit_huge_patch14_clip_224.laion2b_ft_in12k_in1k",
          "tf_efficientnet_l2.ns_jft_in1k_475",
          "maxvit_large_tf_512.in21k_ft_in1k",
          "maxvit_base_tf_512.in21k_ft_in1k",
          "vit_large_patch14_clip_336.laion2b_ft_in12k_in1k",
          "vit_large_patch14_clip_224.openai_ft_in12k_in1k",
          "maxvit_large_tf_384.in21k_ft_in1k",
          "eva_large_patch14_196.in22k_ft_in1k",
          "maxvit_base_tf_384.in21k_ft_in1k",
          "vit_large_patch14_clip_224.laion2b_ft_in12k_in1k",
          "vit_large_patch14_clip_224.openai_ft_in1k",
          "vit_large_patch14_clip_336.laion2b_ft_in1k",
          "convnext_xlarge.fb_in22k_ft_in1k_384",
          "deit3_large_patch16_384_in21ft1k",
          "vit_huge_patch14_clip_224.laion2b_ft_in1k",
          "beit_large_patch16_224.in22k_ft_in22k_in1k",
          "convnext_large.fb_in22k_ft_in1k_384",
          "swinv2_large_window12to24_192to384_22kft1k",
          "convnext_xlarge.fb_in22k_ft_in1k",
          "vit_large_patch14_clip_224.laion2b_ft_in1k",
          "vit_base_patch16_clip_384.laion2b_ft_in12k_in1k",
          "deit3_huge_patch14_224_in21ft1k",
          "swin_large_patch4_window12_384",
          "swinv2_base_window12to24_192to384_22kft1k",
          "vit_large_patch16_384.augreg_in21k_ft_in1k",
          "volo_d5_512",
          "vit_base_patch16_clip_384.openai_ft_in12k_in1k",
          "convnext_large.fb_in22k_ft_in1k",
          "deit3_large_patch16_224_in21ft1k",
          "volo_d5_448",
          "swinv2_large_window12to16_192to256_22kft1k",
          "tf_efficientnet_b7.ns_jft_in1k",
          "tf_efficientnetv2_l.in21k_ft_in1k",
          "beit_base_patch16_384.in22k_ft_in22k_in1k",
          "convnext_base.fb_in22k_ft_in1k_384",
          "volo_d4_448",
          "tf_efficientnetv2_xl.in21k_ft_in1k",
          "deit3_base_patch16_384_in21ft1k",
          "vit_base_patch16_clip_384.laion2b_ft_in1k",
          "maxvit_base_tf_512.in1k",
          "maxvit_large_tf_512.in1k",
          "volo_d3_448",
          "cait_m48_448",
          "beitv2_base_patch16_224.in1k_ft_in22k_in1k",
          "tf_efficientnet_b6.ns_jft_in1k",
          "swin_base_patch4_window12_384",
          "swin_large_patch4_window7_224",
          "maxvit_base_tf_384.in1k",
          "convnext_base.fb_in22k_ft_in1k",
          "swinv2_base_window12to16_192to256_22kft1k",
          "maxvit_large_tf_384.in1k",
          "vit_base_patch8_224.augreg2_in21k_ft_in1k",
          "vit_base_patch16_clip_384.openai_ft_in1k",
          "vit_large_r50_s32_384.augreg_in21k_ft_in1k",
          "vit_base_patch16_clip_224.laion2b_ft_in12k_in1k",
          "dm_nfnet_f6",
          "maxvit_small_tf_512.in1k",
          "tf_efficientnet_b5.ns_jft_in1k",
          "volo_d5_224",
          "cait_m36_384",
          "volo_d2_384",
          "vit_base_patch16_384.augreg_in21k_ft_in1k",
          "tf_efficientnetv2_m.in21k_ft_in1k",
          "xcit_large_24_p8_384_dist"
         ],
         "type": "scatter",
         "x": [
          560,
          336,
          336,
          336,
          224,
          336,
          512,
          196,
          336,
          512,
          384,
          224,
          800,
          384,
          336,
          224,
          475,
          512,
          512,
          336,
          224,
          384,
          196,
          384,
          224,
          224,
          336,
          384,
          384,
          224,
          224,
          384,
          384,
          288,
          224,
          384,
          224,
          384,
          384,
          384,
          512,
          384,
          288,
          224,
          448,
          256,
          600,
          480,
          384,
          384,
          448,
          512,
          384,
          384,
          512,
          512,
          448,
          448,
          224,
          528,
          384,
          224,
          384,
          288,
          256,
          384,
          224,
          384,
          384,
          224,
          576,
          512,
          456,
          224,
          384,
          384,
          384,
          480,
          384
         ],
         "xaxis": "x",
         "y": [
          89.796,
          89.568,
          89.476,
          89.204,
          89.1,
          88.664,
          88.598,
          88.586,
          88.574,
          88.538,
          88.404,
          88.386,
          88.352,
          88.306,
          88.266,
          88.246,
          88.234,
          88.218,
          88.212,
          88.182,
          88.168,
          87.992,
          87.938,
          87.922,
          87.89,
          87.852,
          87.848,
          87.748,
          87.716,
          87.594,
          87.476,
          87.472,
          87.458,
          87.338,
          87.292,
          87.218,
          87.184,
          87.148,
          87.108,
          87.08,
          87.044,
          87.034,
          87.016,
          86.978,
          86.954,
          86.936,
          86.84,
          86.806,
          86.8,
          86.794,
          86.79,
          86.748,
          86.744,
          86.62,
          86.598,
          86.518,
          86.494,
          86.484,
          86.48,
          86.452,
          86.432,
          86.32,
          86.294,
          86.28,
          86.274,
          86.236,
          86.212,
          86.206,
          86.184,
          86.17,
          86.144,
          86.088,
          86.088,
          86.068,
          86.054,
          86.036,
          86.006,
          86.004,
          86
         ],
         "yaxis": "y"
        }
       ],
       "layout": {
        "legend": {
         "itemsizing": "constant",
         "tracegroupgap": 0
        },
        "margin": {
         "t": 60
        },
        "template": {
         "data": {
          "bar": [
           {
            "error_x": {
             "color": "#2a3f5f"
            },
            "error_y": {
             "color": "#2a3f5f"
            },
            "marker": {
             "line": {
              "color": "#E5ECF6",
              "width": 0.5
             },
             "pattern": {
              "fillmode": "overlay",
              "size": 10,
              "solidity": 0.2
             }
            },
            "type": "bar"
           }
          ],
          "barpolar": [
           {
            "marker": {
             "line": {
              "color": "#E5ECF6",
              "width": 0.5
             },
             "pattern": {
              "fillmode": "overlay",
              "size": 10,
              "solidity": 0.2
             }
            },
            "type": "barpolar"
           }
          ],
          "carpet": [
           {
            "aaxis": {
             "endlinecolor": "#2a3f5f",
             "gridcolor": "white",
             "linecolor": "white",
             "minorgridcolor": "white",
             "startlinecolor": "#2a3f5f"
            },
            "baxis": {
             "endlinecolor": "#2a3f5f",
             "gridcolor": "white",
             "linecolor": "white",
             "minorgridcolor": "white",
             "startlinecolor": "#2a3f5f"
            },
            "type": "carpet"
           }
          ],
          "choropleth": [
           {
            "colorbar": {
             "outlinewidth": 0,
             "ticks": ""
            },
            "type": "choropleth"
           }
          ],
          "contour": [
           {
            "colorbar": {
             "outlinewidth": 0,
             "ticks": ""
            },
            "colorscale": [
             [
              0,
              "#0d0887"
             ],
             [
              0.1111111111111111,
              "#46039f"
             ],
             [
              0.2222222222222222,
              "#7201a8"
             ],
             [
              0.3333333333333333,
              "#9c179e"
             ],
             [
              0.4444444444444444,
              "#bd3786"
             ],
             [
              0.5555555555555556,
              "#d8576b"
             ],
             [
              0.6666666666666666,
              "#ed7953"
             ],
             [
              0.7777777777777778,
              "#fb9f3a"
             ],
             [
              0.8888888888888888,
              "#fdca26"
             ],
             [
              1,
              "#f0f921"
             ]
            ],
            "type": "contour"
           }
          ],
          "contourcarpet": [
           {
            "colorbar": {
             "outlinewidth": 0,
             "ticks": ""
            },
            "type": "contourcarpet"
           }
          ],
          "heatmap": [
           {
            "colorbar": {
             "outlinewidth": 0,
             "ticks": ""
            },
            "colorscale": [
             [
              0,
              "#0d0887"
             ],
             [
              0.1111111111111111,
              "#46039f"
             ],
             [
              0.2222222222222222,
              "#7201a8"
             ],
             [
              0.3333333333333333,
              "#9c179e"
             ],
             [
              0.4444444444444444,
              "#bd3786"
             ],
             [
              0.5555555555555556,
              "#d8576b"
             ],
             [
              0.6666666666666666,
              "#ed7953"
             ],
             [
              0.7777777777777778,
              "#fb9f3a"
             ],
             [
              0.8888888888888888,
              "#fdca26"
             ],
             [
              1,
              "#f0f921"
             ]
            ],
            "type": "heatmap"
           }
          ],
          "heatmapgl": [
           {
            "colorbar": {
             "outlinewidth": 0,
             "ticks": ""
            },
            "colorscale": [
             [
              0,
              "#0d0887"
             ],
             [
              0.1111111111111111,
              "#46039f"
             ],
             [
              0.2222222222222222,
              "#7201a8"
             ],
             [
              0.3333333333333333,
              "#9c179e"
             ],
             [
              0.4444444444444444,
              "#bd3786"
             ],
             [
              0.5555555555555556,
              "#d8576b"
             ],
             [
              0.6666666666666666,
              "#ed7953"
             ],
             [
              0.7777777777777778,
              "#fb9f3a"
             ],
             [
              0.8888888888888888,
              "#fdca26"
             ],
             [
              1,
              "#f0f921"
             ]
            ],
            "type": "heatmapgl"
           }
          ],
          "histogram": [
           {
            "marker": {
             "pattern": {
              "fillmode": "overlay",
              "size": 10,
              "solidity": 0.2
             }
            },
            "type": "histogram"
           }
          ],
          "histogram2d": [
           {
            "colorbar": {
             "outlinewidth": 0,
             "ticks": ""
            },
            "colorscale": [
             [
              0,
              "#0d0887"
             ],
             [
              0.1111111111111111,
              "#46039f"
             ],
             [
              0.2222222222222222,
              "#7201a8"
             ],
             [
              0.3333333333333333,
              "#9c179e"
             ],
             [
              0.4444444444444444,
              "#bd3786"
             ],
             [
              0.5555555555555556,
              "#d8576b"
             ],
             [
              0.6666666666666666,
              "#ed7953"
             ],
             [
              0.7777777777777778,
              "#fb9f3a"
             ],
             [
              0.8888888888888888,
              "#fdca26"
             ],
             [
              1,
              "#f0f921"
             ]
            ],
            "type": "histogram2d"
           }
          ],
          "histogram2dcontour": [
           {
            "colorbar": {
             "outlinewidth": 0,
             "ticks": ""
            },
            "colorscale": [
             [
              0,
              "#0d0887"
             ],
             [
              0.1111111111111111,
              "#46039f"
             ],
             [
              0.2222222222222222,
              "#7201a8"
             ],
             [
              0.3333333333333333,
              "#9c179e"
             ],
             [
              0.4444444444444444,
              "#bd3786"
             ],
             [
              0.5555555555555556,
              "#d8576b"
             ],
             [
              0.6666666666666666,
              "#ed7953"
             ],
             [
              0.7777777777777778,
              "#fb9f3a"
             ],
             [
              0.8888888888888888,
              "#fdca26"
             ],
             [
              1,
              "#f0f921"
             ]
            ],
            "type": "histogram2dcontour"
           }
          ],
          "mesh3d": [
           {
            "colorbar": {
             "outlinewidth": 0,
             "ticks": ""
            },
            "type": "mesh3d"
           }
          ],
          "parcoords": [
           {
            "line": {
             "colorbar": {
              "outlinewidth": 0,
              "ticks": ""
             }
            },
            "type": "parcoords"
           }
          ],
          "pie": [
           {
            "automargin": true,
            "type": "pie"
           }
          ],
          "scatter": [
           {
            "fillpattern": {
             "fillmode": "overlay",
             "size": 10,
             "solidity": 0.2
            },
            "type": "scatter"
           }
          ],
          "scatter3d": [
           {
            "line": {
             "colorbar": {
              "outlinewidth": 0,
              "ticks": ""
             }
            },
            "marker": {
             "colorbar": {
              "outlinewidth": 0,
              "ticks": ""
             }
            },
            "type": "scatter3d"
           }
          ],
          "scattercarpet": [
           {
            "marker": {
             "colorbar": {
              "outlinewidth": 0,
              "ticks": ""
             }
            },
            "type": "scattercarpet"
           }
          ],
          "scattergeo": [
           {
            "marker": {
             "colorbar": {
              "outlinewidth": 0,
              "ticks": ""
             }
            },
            "type": "scattergeo"
           }
          ],
          "scattergl": [
           {
            "marker": {
             "colorbar": {
              "outlinewidth": 0,
              "ticks": ""
             }
            },
            "type": "scattergl"
           }
          ],
          "scattermapbox": [
           {
            "marker": {
             "colorbar": {
              "outlinewidth": 0,
              "ticks": ""
             }
            },
            "type": "scattermapbox"
           }
          ],
          "scatterpolar": [
           {
            "marker": {
             "colorbar": {
              "outlinewidth": 0,
              "ticks": ""
             }
            },
            "type": "scatterpolar"
           }
          ],
          "scatterpolargl": [
           {
            "marker": {
             "colorbar": {
              "outlinewidth": 0,
              "ticks": ""
             }
            },
            "type": "scatterpolargl"
           }
          ],
          "scatterternary": [
           {
            "marker": {
             "colorbar": {
              "outlinewidth": 0,
              "ticks": ""
             }
            },
            "type": "scatterternary"
           }
          ],
          "surface": [
           {
            "colorbar": {
             "outlinewidth": 0,
             "ticks": ""
            },
            "colorscale": [
             [
              0,
              "#0d0887"
             ],
             [
              0.1111111111111111,
              "#46039f"
             ],
             [
              0.2222222222222222,
              "#7201a8"
             ],
             [
              0.3333333333333333,
              "#9c179e"
             ],
             [
              0.4444444444444444,
              "#bd3786"
             ],
             [
              0.5555555555555556,
              "#d8576b"
             ],
             [
              0.6666666666666666,
              "#ed7953"
             ],
             [
              0.7777777777777778,
              "#fb9f3a"
             ],
             [
              0.8888888888888888,
              "#fdca26"
             ],
             [
              1,
              "#f0f921"
             ]
            ],
            "type": "surface"
           }
          ],
          "table": [
           {
            "cells": {
             "fill": {
              "color": "#EBF0F8"
             },
             "line": {
              "color": "white"
             }
            },
            "header": {
             "fill": {
              "color": "#C8D4E3"
             },
             "line": {
              "color": "white"
             }
            },
            "type": "table"
           }
          ]
         },
         "layout": {
          "annotationdefaults": {
           "arrowcolor": "#2a3f5f",
           "arrowhead": 0,
           "arrowwidth": 1
          },
          "autotypenumbers": "strict",
          "coloraxis": {
           "colorbar": {
            "outlinewidth": 0,
            "ticks": ""
           }
          },
          "colorscale": {
           "diverging": [
            [
             0,
             "#8e0152"
            ],
            [
             0.1,
             "#c51b7d"
            ],
            [
             0.2,
             "#de77ae"
            ],
            [
             0.3,
             "#f1b6da"
            ],
            [
             0.4,
             "#fde0ef"
            ],
            [
             0.5,
             "#f7f7f7"
            ],
            [
             0.6,
             "#e6f5d0"
            ],
            [
             0.7,
             "#b8e186"
            ],
            [
             0.8,
             "#7fbc41"
            ],
            [
             0.9,
             "#4d9221"
            ],
            [
             1,
             "#276419"
            ]
           ],
           "sequential": [
            [
             0,
             "#0d0887"
            ],
            [
             0.1111111111111111,
             "#46039f"
            ],
            [
             0.2222222222222222,
             "#7201a8"
            ],
            [
             0.3333333333333333,
             "#9c179e"
            ],
            [
             0.4444444444444444,
             "#bd3786"
            ],
            [
             0.5555555555555556,
             "#d8576b"
            ],
            [
             0.6666666666666666,
             "#ed7953"
            ],
            [
             0.7777777777777778,
             "#fb9f3a"
            ],
            [
             0.8888888888888888,
             "#fdca26"
            ],
            [
             1,
             "#f0f921"
            ]
           ],
           "sequentialminus": [
            [
             0,
             "#0d0887"
            ],
            [
             0.1111111111111111,
             "#46039f"
            ],
            [
             0.2222222222222222,
             "#7201a8"
            ],
            [
             0.3333333333333333,
             "#9c179e"
            ],
            [
             0.4444444444444444,
             "#bd3786"
            ],
            [
             0.5555555555555556,
             "#d8576b"
            ],
            [
             0.6666666666666666,
             "#ed7953"
            ],
            [
             0.7777777777777778,
             "#fb9f3a"
            ],
            [
             0.8888888888888888,
             "#fdca26"
            ],
            [
             1,
             "#f0f921"
            ]
           ]
          },
          "colorway": [
           "#636efa",
           "#EF553B",
           "#00cc96",
           "#ab63fa",
           "#FFA15A",
           "#19d3f3",
           "#FF6692",
           "#B6E880",
           "#FF97FF",
           "#FECB52"
          ],
          "font": {
           "color": "#2a3f5f"
          },
          "geo": {
           "bgcolor": "white",
           "lakecolor": "white",
           "landcolor": "#E5ECF6",
           "showlakes": true,
           "showland": true,
           "subunitcolor": "white"
          },
          "hoverlabel": {
           "align": "left"
          },
          "hovermode": "closest",
          "mapbox": {
           "style": "light"
          },
          "paper_bgcolor": "white",
          "plot_bgcolor": "#E5ECF6",
          "polar": {
           "angularaxis": {
            "gridcolor": "white",
            "linecolor": "white",
            "ticks": ""
           },
           "bgcolor": "#E5ECF6",
           "radialaxis": {
            "gridcolor": "white",
            "linecolor": "white",
            "ticks": ""
           }
          },
          "scene": {
           "xaxis": {
            "backgroundcolor": "#E5ECF6",
            "gridcolor": "white",
            "gridwidth": 2,
            "linecolor": "white",
            "showbackground": true,
            "ticks": "",
            "zerolinecolor": "white"
           },
           "yaxis": {
            "backgroundcolor": "#E5ECF6",
            "gridcolor": "white",
            "gridwidth": 2,
            "linecolor": "white",
            "showbackground": true,
            "ticks": "",
            "zerolinecolor": "white"
           },
           "zaxis": {
            "backgroundcolor": "#E5ECF6",
            "gridcolor": "white",
            "gridwidth": 2,
            "linecolor": "white",
            "showbackground": true,
            "ticks": "",
            "zerolinecolor": "white"
           }
          },
          "shapedefaults": {
           "line": {
            "color": "#2a3f5f"
           }
          },
          "ternary": {
           "aaxis": {
            "gridcolor": "white",
            "linecolor": "white",
            "ticks": ""
           },
           "baxis": {
            "gridcolor": "white",
            "linecolor": "white",
            "ticks": ""
           },
           "bgcolor": "#E5ECF6",
           "caxis": {
            "gridcolor": "white",
            "linecolor": "white",
            "ticks": ""
           }
          },
          "title": {
           "x": 0.05
          },
          "xaxis": {
           "automargin": true,
           "gridcolor": "white",
           "linecolor": "white",
           "ticks": "",
           "title": {
            "standoff": 15
           },
           "zerolinecolor": "white",
           "zerolinewidth": 2
          },
          "yaxis": {
           "automargin": true,
           "gridcolor": "white",
           "linecolor": "white",
           "ticks": "",
           "title": {
            "standoff": 15
           },
           "zerolinecolor": "white",
           "zerolinewidth": 2
          }
         }
        },
        "xaxis": {
         "anchor": "y",
         "domain": [
          0,
          1
         ],
         "title": {
          "text": "img_size"
         }
        },
        "yaxis": {
         "anchor": "x",
         "domain": [
          0,
          1
         ],
         "title": {
          "text": "top1"
         }
        }
       }
      }
     },
     "metadata": {},
     "output_type": "display_data"
    }
   ],
   "source": [
    "\n",
    "fig = px.scatter(\n",
    "    df.query(\"top1>=86.0\"),\n",
    "    x=\"img_size\",\n",
    "    y=\"top1\",\n",
    "    size=\"param_count\",\n",
    "    #color=\"continent\",\n",
    "    text=\"model\",\n",
    "    hover_name=\"model\",\n",
    "    #log_x=True,\n",
    "    size_max=60,\n",
    ")\n",
    "\n",
    "fig.show()"
   ]
  },
  {
   "cell_type": "code",
   "execution_count": null,
   "id": "82b1bceb",
   "metadata": {},
   "outputs": [],
   "source": []
  }
 ],
 "metadata": {
  "kernelspec": {
   "display_name": "Python 3.10.6 64-bit",
   "language": "python",
   "name": "python3"
  },
  "language_info": {
   "codemirror_mode": {
    "name": "ipython",
    "version": 3
   },
   "file_extension": ".py",
   "mimetype": "text/x-python",
   "name": "python",
   "nbconvert_exporter": "python",
   "pygments_lexer": "ipython3",
   "version": "3.10.6"
  },
  "vscode": {
   "interpreter": {
    "hash": "916dbcbb3f70747c44a77c7bcd40155683ae19c65e1c03b4aa3499c5328201f1"
   }
  }
 },
 "nbformat": 4,
 "nbformat_minor": 5
}
